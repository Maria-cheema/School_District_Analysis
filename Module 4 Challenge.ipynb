{
 "cells": [
  {
   "cell_type": "code",
   "execution_count": 227,
   "id": "48c5204e",
   "metadata": {},
   "outputs": [],
   "source": [
    "import pandas as pd\n",
    "import os\n",
    "\n",
    "student_data = os.path.join('Resources', 'new_full_student_data.csv')\n",
    "student_df = pd.read_csv(student_data)"
   ]
  },
  {
   "cell_type": "code",
   "execution_count": 228,
   "id": "082184c4",
   "metadata": {},
   "outputs": [
    {
     "data": {
      "text/html": [
       "<div>\n",
       "<style scoped>\n",
       "    .dataframe tbody tr th:only-of-type {\n",
       "        vertical-align: middle;\n",
       "    }\n",
       "\n",
       "    .dataframe tbody tr th {\n",
       "        vertical-align: top;\n",
       "    }\n",
       "\n",
       "    .dataframe thead th {\n",
       "        text-align: right;\n",
       "    }\n",
       "</style>\n",
       "<table border=\"1\" class=\"dataframe\">\n",
       "  <thead>\n",
       "    <tr style=\"text-align: right;\">\n",
       "      <th></th>\n",
       "      <th>student_id</th>\n",
       "      <th>student_name</th>\n",
       "      <th>grade</th>\n",
       "      <th>school_name</th>\n",
       "      <th>reading_score</th>\n",
       "      <th>math_score</th>\n",
       "      <th>school_type</th>\n",
       "      <th>school_budget</th>\n",
       "    </tr>\n",
       "  </thead>\n",
       "  <tbody>\n",
       "    <tr>\n",
       "      <th>0</th>\n",
       "      <td>103880842</td>\n",
       "      <td>Travis Martin</td>\n",
       "      <td>9th</td>\n",
       "      <td>Sullivan High School</td>\n",
       "      <td>59.0</td>\n",
       "      <td>88.2</td>\n",
       "      <td>Public</td>\n",
       "      <td>961125</td>\n",
       "    </tr>\n",
       "    <tr>\n",
       "      <th>1</th>\n",
       "      <td>45069750</td>\n",
       "      <td>Michael Brown</td>\n",
       "      <td>9th</td>\n",
       "      <td>Dixon High School</td>\n",
       "      <td>94.7</td>\n",
       "      <td>73.5</td>\n",
       "      <td>Charter</td>\n",
       "      <td>870334</td>\n",
       "    </tr>\n",
       "    <tr>\n",
       "      <th>2</th>\n",
       "      <td>45024902</td>\n",
       "      <td>Gabriela Lucero</td>\n",
       "      <td>9th</td>\n",
       "      <td>Wagner High School</td>\n",
       "      <td>89.0</td>\n",
       "      <td>70.4</td>\n",
       "      <td>Public</td>\n",
       "      <td>846745</td>\n",
       "    </tr>\n",
       "    <tr>\n",
       "      <th>3</th>\n",
       "      <td>62582498</td>\n",
       "      <td>Susan Richardson</td>\n",
       "      <td>9th</td>\n",
       "      <td>Silva High School</td>\n",
       "      <td>69.7</td>\n",
       "      <td>80.3</td>\n",
       "      <td>Public</td>\n",
       "      <td>991918</td>\n",
       "    </tr>\n",
       "    <tr>\n",
       "      <th>4</th>\n",
       "      <td>16437227</td>\n",
       "      <td>Sherry Davis</td>\n",
       "      <td>11th</td>\n",
       "      <td>Bowers High School</td>\n",
       "      <td>NaN</td>\n",
       "      <td>27.5</td>\n",
       "      <td>Public</td>\n",
       "      <td>848324</td>\n",
       "    </tr>\n",
       "  </tbody>\n",
       "</table>\n",
       "</div>"
      ],
      "text/plain": [
       "   student_id      student_name grade           school_name  reading_score  \\\n",
       "0   103880842     Travis Martin   9th  Sullivan High School           59.0   \n",
       "1    45069750     Michael Brown   9th     Dixon High School           94.7   \n",
       "2    45024902   Gabriela Lucero   9th    Wagner High School           89.0   \n",
       "3    62582498  Susan Richardson   9th     Silva High School           69.7   \n",
       "4    16437227      Sherry Davis  11th    Bowers High School            NaN   \n",
       "\n",
       "   math_score school_type  school_budget  \n",
       "0        88.2      Public         961125  \n",
       "1        73.5     Charter         870334  \n",
       "2        70.4      Public         846745  \n",
       "3        80.3      Public         991918  \n",
       "4        27.5      Public         848324  "
      ]
     },
     "execution_count": 228,
     "metadata": {},
     "output_type": "execute_result"
    }
   ],
   "source": [
    "student_df.head()"
   ]
  },
  {
   "cell_type": "code",
   "execution_count": 229,
   "id": "b3e03391",
   "metadata": {},
   "outputs": [],
   "source": [
    "#Deliverable 2: Prepare the Data"
   ]
  },
  {
   "cell_type": "code",
   "execution_count": 230,
   "id": "37ae0716",
   "metadata": {},
   "outputs": [
    {
     "name": "stdout",
     "output_type": "stream",
     "text": [
      "student_id          0\n",
      "student_name        0\n",
      "grade               0\n",
      "school_name         0\n",
      "reading_score    1968\n",
      "math_score        982\n",
      "school_type         0\n",
      "school_budget       0\n",
      "dtype: int64\n"
     ]
    }
   ],
   "source": [
    "print(student_df.isnull().sum())"
   ]
  },
  {
   "cell_type": "code",
   "execution_count": 231,
   "id": "6a2499eb",
   "metadata": {},
   "outputs": [],
   "source": [
    "student_df = student_df.dropna()"
   ]
  },
  {
   "cell_type": "code",
   "execution_count": 232,
   "id": "e92db5a5",
   "metadata": {},
   "outputs": [
    {
     "name": "stdout",
     "output_type": "stream",
     "text": [
      "student_id       0\n",
      "student_name     0\n",
      "grade            0\n",
      "school_name      0\n",
      "reading_score    0\n",
      "math_score       0\n",
      "school_type      0\n",
      "school_budget    0\n",
      "dtype: int64\n"
     ]
    }
   ],
   "source": [
    "print(student_df.isnull().sum())"
   ]
  },
  {
   "cell_type": "code",
   "execution_count": 233,
   "id": "a8f46a78",
   "metadata": {},
   "outputs": [],
   "source": [
    "student_df = student_df.drop_duplicates()"
   ]
  },
  {
   "cell_type": "code",
   "execution_count": 234,
   "id": "3359fcd7",
   "metadata": {},
   "outputs": [],
   "source": [
    "student_df = student_df.drop_duplicates(keep='first')"
   ]
  },
  {
   "cell_type": "code",
   "execution_count": 235,
   "id": "80daaab8",
   "metadata": {},
   "outputs": [],
   "source": [
    "student_df = student_df.drop_duplicates(keep='last')"
   ]
  },
  {
   "cell_type": "code",
   "execution_count": 236,
   "id": "82e3cba7",
   "metadata": {},
   "outputs": [
    {
     "data": {
      "text/plain": [
       "student_id         int64\n",
       "student_name      object\n",
       "grade             object\n",
       "school_name       object\n",
       "reading_score    float64\n",
       "math_score       float64\n",
       "school_type       object\n",
       "school_budget      int64\n",
       "dtype: object"
      ]
     },
     "execution_count": 236,
     "metadata": {},
     "output_type": "execute_result"
    }
   ],
   "source": [
    "student_df.dtypes"
   ]
  },
  {
   "cell_type": "code",
   "execution_count": 237,
   "id": "5cf41ed2",
   "metadata": {},
   "outputs": [],
   "source": [
    "student_df[\"grade\"] = student_df[\"grade\"].str.replace(\"th\", \"\")"
   ]
  },
  {
   "cell_type": "code",
   "execution_count": 238,
   "id": "b5fededf",
   "metadata": {},
   "outputs": [
    {
     "data": {
      "text/plain": [
       "0         9\n",
       "1         9\n",
       "2         9\n",
       "3         9\n",
       "5         9\n",
       "         ..\n",
       "19508    10\n",
       "19509    12\n",
       "19511    11\n",
       "19512    11\n",
       "19513    12\n",
       "Name: grade, Length: 14831, dtype: object"
      ]
     },
     "execution_count": 238,
     "metadata": {},
     "output_type": "execute_result"
    }
   ],
   "source": [
    "student_df.grade"
   ]
  },
  {
   "cell_type": "code",
   "execution_count": 239,
   "id": "30c5422a",
   "metadata": {},
   "outputs": [],
   "source": [
    "# Change the \"grade\" column to the int type\n",
    "student_df[\"grade\"] = student_df[\"grade\"].astype(int)"
   ]
  },
  {
   "cell_type": "code",
   "execution_count": 240,
   "id": "84e8dff6",
   "metadata": {},
   "outputs": [
    {
     "data": {
      "text/plain": [
       "student_id         int64\n",
       "student_name      object\n",
       "grade              int32\n",
       "school_name       object\n",
       "reading_score    float64\n",
       "math_score       float64\n",
       "school_type       object\n",
       "school_budget      int64\n",
       "dtype: object"
      ]
     },
     "execution_count": 240,
     "metadata": {},
     "output_type": "execute_result"
    }
   ],
   "source": [
    "student_df.dtypes"
   ]
  },
  {
   "cell_type": "code",
   "execution_count": 241,
   "id": "5b48a23b",
   "metadata": {},
   "outputs": [
    {
     "name": "stdout",
     "output_type": "stream",
     "text": [
      "         student_id         grade  reading_score    math_score  school_budget\n",
      "count  1.483100e+04  14831.000000   14831.000000  14831.000000   14831.000000\n",
      "mean   6.975296e+07     10.355539      72.357865     64.675733  893742.749107\n",
      "std    3.452909e+07      1.097728      15.224590     15.844093   53938.066467\n",
      "min    1.000906e+07      9.000000      10.500000      3.700000  817615.000000\n",
      "25%    3.984433e+07      9.000000      62.200000     54.500000  846745.000000\n",
      "50%    6.965978e+07     10.000000      73.800000     65.300000  893368.000000\n",
      "75%    9.927449e+07     11.000000      84.000000     76.000000  956438.000000\n",
      "max    1.299997e+08     12.000000     100.000000    100.000000  991918.000000\n"
     ]
    }
   ],
   "source": [
    "# Generate the summary statistics for the student DataFrame\n",
    "print(student_df.describe())"
   ]
  },
  {
   "cell_type": "code",
   "execution_count": 242,
   "id": "351be521",
   "metadata": {},
   "outputs": [],
   "source": [
    "#Display the mean math score\n",
    "math_mean = student_df[\"math_score\"].mean()"
   ]
  },
  {
   "cell_type": "code",
   "execution_count": 243,
   "id": "d14e5b25",
   "metadata": {},
   "outputs": [
    {
     "name": "stdout",
     "output_type": "stream",
     "text": [
      "64.67573326141189\n"
     ]
    }
   ],
   "source": [
    "print(math_mean)"
   ]
  },
  {
   "cell_type": "code",
   "execution_count": 244,
   "id": "5b01d6ac",
   "metadata": {},
   "outputs": [],
   "source": [
    "#Store the minimum reading score in min_reading_score\n",
    "min_reading_score = student_df[\"reading_score\"].min()"
   ]
  },
  {
   "cell_type": "code",
   "execution_count": 245,
   "id": "69eb2497",
   "metadata": {},
   "outputs": [
    {
     "name": "stdout",
     "output_type": "stream",
     "text": [
      "10.5\n"
     ]
    }
   ],
   "source": [
    "print(min_reading_score)"
   ]
  },
  {
   "cell_type": "code",
   "execution_count": 246,
   "id": "72fd806f",
   "metadata": {},
   "outputs": [
    {
     "name": "stdout",
     "output_type": "stream",
     "text": [
      "0         9\n",
      "1         9\n",
      "2         9\n",
      "3         9\n",
      "5         9\n",
      "         ..\n",
      "19508    10\n",
      "19509    12\n",
      "19511    11\n",
      "19512    11\n",
      "19513    12\n",
      "Name: grade, Length: 14831, dtype: int32\n"
     ]
    }
   ],
   "source": [
    "#Display the grade column by using loc\n",
    "grade_column = student_df.loc[:, \"grade\"]\n",
    "print(grade_column)"
   ]
  },
  {
   "cell_type": "code",
   "execution_count": 247,
   "id": "3fad7b72",
   "metadata": {},
   "outputs": [
    {
     "name": "stdout",
     "output_type": "stream",
     "text": [
      "            school_name  reading_score  math_score\n",
      "0  Sullivan High School           59.0        88.2\n",
      "1     Dixon High School           94.7        73.5\n",
      "2    Wagner High School           89.0        70.4\n"
     ]
    }
   ],
   "source": [
    "#Display the first three rows of Columns 3, 4, and 5 by using iloc\n",
    "first_three_rows = student_df.iloc[:3, [3,4,5]]\n",
    "print(first_three_rows)"
   ]
  },
  {
   "cell_type": "code",
   "execution_count": 248,
   "id": "b692abb2",
   "metadata": {},
   "outputs": [
    {
     "name": "stdout",
     "output_type": "stream",
     "text": [
      "         student_id   grade  reading_score   math_score  school_budget\n",
      "count  4.132000e+03  4132.0    4132.000000  4132.000000    4132.000000\n",
      "mean   6.979441e+07     9.0      69.236713    66.585624  898692.606002\n",
      "std    3.470565e+07     0.0      15.277354    16.661533   54891.596611\n",
      "min    1.000906e+07     9.0      17.900000     5.300000  817615.000000\n",
      "25%    3.953848e+07     9.0      59.000000    56.000000  846745.000000\n",
      "50%    6.984037e+07     9.0      70.050000    67.800000  893368.000000\n",
      "75%    9.939504e+07     9.0      80.500000    78.500000  957299.000000\n",
      "max    1.299997e+08     9.0      99.900000   100.000000  991918.000000\n"
     ]
    }
   ],
   "source": [
    "#Select the rows for Grade 9, and display their summary statistics by using loc and describe\n",
    "grade_9 = student_df.loc[student_df[\"grade\"] == 9]\n",
    "print(grade_9.describe())"
   ]
  },
  {
   "cell_type": "code",
   "execution_count": 249,
   "id": "55c1c797",
   "metadata": {},
   "outputs": [],
   "source": [
    "#Store the row with the minimum overall reading score in min_reading_row by using loc and the min_reading_score variable\n",
    "min_reading_score = student_df[\"reading_score\"].min()"
   ]
  },
  {
   "cell_type": "code",
   "execution_count": 250,
   "id": "675508ce",
   "metadata": {},
   "outputs": [],
   "source": [
    "min_reading_row = student_df.loc[student_df[\"reading_score\"] == min_reading_score]"
   ]
  },
  {
   "cell_type": "code",
   "execution_count": 251,
   "id": "bf30cb15",
   "metadata": {},
   "outputs": [
    {
     "data": {
      "text/html": [
       "<div>\n",
       "<style scoped>\n",
       "    .dataframe tbody tr th:only-of-type {\n",
       "        vertical-align: middle;\n",
       "    }\n",
       "\n",
       "    .dataframe tbody tr th {\n",
       "        vertical-align: top;\n",
       "    }\n",
       "\n",
       "    .dataframe thead th {\n",
       "        text-align: right;\n",
       "    }\n",
       "</style>\n",
       "<table border=\"1\" class=\"dataframe\">\n",
       "  <thead>\n",
       "    <tr style=\"text-align: right;\">\n",
       "      <th></th>\n",
       "      <th>student_id</th>\n",
       "      <th>student_name</th>\n",
       "      <th>grade</th>\n",
       "      <th>school_name</th>\n",
       "      <th>reading_score</th>\n",
       "      <th>math_score</th>\n",
       "      <th>school_type</th>\n",
       "      <th>school_budget</th>\n",
       "    </tr>\n",
       "  </thead>\n",
       "  <tbody>\n",
       "    <tr>\n",
       "      <th>3706</th>\n",
       "      <td>81758630</td>\n",
       "      <td>Matthew Thomas</td>\n",
       "      <td>10</td>\n",
       "      <td>Dixon High School</td>\n",
       "      <td>10.5</td>\n",
       "      <td>58.4</td>\n",
       "      <td>Charter</td>\n",
       "      <td>870334</td>\n",
       "    </tr>\n",
       "  </tbody>\n",
       "</table>\n",
       "</div>"
      ],
      "text/plain": [
       "      student_id    student_name  grade        school_name  reading_score  \\\n",
       "3706    81758630  Matthew Thomas     10  Dixon High School           10.5   \n",
       "\n",
       "      math_score school_type  school_budget  \n",
       "3706        58.4     Charter         870334  "
      ]
     },
     "execution_count": 251,
     "metadata": {},
     "output_type": "execute_result"
    }
   ],
   "source": [
    "min_reading_row"
   ]
  },
  {
   "cell_type": "code",
   "execution_count": 252,
   "id": "9a16cceb",
   "metadata": {},
   "outputs": [
    {
     "data": {
      "text/html": [
       "<div>\n",
       "<style scoped>\n",
       "    .dataframe tbody tr th:only-of-type {\n",
       "        vertical-align: middle;\n",
       "    }\n",
       "\n",
       "    .dataframe tbody tr th {\n",
       "        vertical-align: top;\n",
       "    }\n",
       "\n",
       "    .dataframe thead th {\n",
       "        text-align: right;\n",
       "    }\n",
       "</style>\n",
       "<table border=\"1\" class=\"dataframe\">\n",
       "  <thead>\n",
       "    <tr style=\"text-align: right;\">\n",
       "      <th></th>\n",
       "      <th>school_name</th>\n",
       "      <th>reading_score</th>\n",
       "    </tr>\n",
       "  </thead>\n",
       "  <tbody>\n",
       "    <tr>\n",
       "      <th>45</th>\n",
       "      <td>Dixon High School</td>\n",
       "      <td>71.1</td>\n",
       "    </tr>\n",
       "    <tr>\n",
       "      <th>60</th>\n",
       "      <td>Dixon High School</td>\n",
       "      <td>59.5</td>\n",
       "    </tr>\n",
       "    <tr>\n",
       "      <th>69</th>\n",
       "      <td>Dixon High School</td>\n",
       "      <td>88.6</td>\n",
       "    </tr>\n",
       "    <tr>\n",
       "      <th>94</th>\n",
       "      <td>Dixon High School</td>\n",
       "      <td>81.5</td>\n",
       "    </tr>\n",
       "    <tr>\n",
       "      <th>100</th>\n",
       "      <td>Dixon High School</td>\n",
       "      <td>95.3</td>\n",
       "    </tr>\n",
       "    <tr>\n",
       "      <th>...</th>\n",
       "      <td>...</td>\n",
       "      <td>...</td>\n",
       "    </tr>\n",
       "    <tr>\n",
       "      <th>19283</th>\n",
       "      <td>Dixon High School</td>\n",
       "      <td>52.9</td>\n",
       "    </tr>\n",
       "    <tr>\n",
       "      <th>19306</th>\n",
       "      <td>Dixon High School</td>\n",
       "      <td>58.0</td>\n",
       "    </tr>\n",
       "    <tr>\n",
       "      <th>19344</th>\n",
       "      <td>Dixon High School</td>\n",
       "      <td>38.0</td>\n",
       "    </tr>\n",
       "    <tr>\n",
       "      <th>19368</th>\n",
       "      <td>Dixon High School</td>\n",
       "      <td>84.4</td>\n",
       "    </tr>\n",
       "    <tr>\n",
       "      <th>19445</th>\n",
       "      <td>Dixon High School</td>\n",
       "      <td>43.9</td>\n",
       "    </tr>\n",
       "  </tbody>\n",
       "</table>\n",
       "<p>569 rows × 2 columns</p>\n",
       "</div>"
      ],
      "text/plain": [
       "             school_name  reading_score\n",
       "45     Dixon High School           71.1\n",
       "60     Dixon High School           59.5\n",
       "69     Dixon High School           88.6\n",
       "94     Dixon High School           81.5\n",
       "100    Dixon High School           95.3\n",
       "...                  ...            ...\n",
       "19283  Dixon High School           52.9\n",
       "19306  Dixon High School           58.0\n",
       "19344  Dixon High School           38.0\n",
       "19368  Dixon High School           84.4\n",
       "19445  Dixon High School           43.9\n",
       "\n",
       "[569 rows x 2 columns]"
      ]
     },
     "execution_count": 252,
     "metadata": {},
     "output_type": "execute_result"
    }
   ],
   "source": [
    "#Select all the reading scores from the 10th graders at Dixon High School by using loc with conditionals \n",
    "#.5\n",
    "#need help in displaying as shown in Deliverable 4: Drill Down into the Data #\n",
    "dixon_10th_graders = student_df.loc[(student_df[\"school_name\"] == \"Dixon High School\") & (student_df[\"grade\"] == 10), [\"school_name\",\"reading_score\"]]\n",
    "dixon_10th_graders"
   ]
  },
  {
   "cell_type": "code",
   "execution_count": 253,
   "id": "93aedecf",
   "metadata": {},
   "outputs": [
    {
     "name": "stdout",
     "output_type": "stream",
     "text": [
      "Mean reading score for Grades 11 and 12: nan\n"
     ]
    }
   ],
   "source": [
    "#Find the mean reading score for all the students in Grades 11 and 12 combined by using conditional statements and loc or iloc.\n",
    "grade_11_12_df = student_df.loc[(student_df['grade'] == '11') | (student_df['grade'] == '12')]\n",
    "mean_reading_score = grade_11_12_df['reading_score'].mean()\n",
    "print(\"Mean reading score for Grades 11 and 12:\", mean_reading_score)"
   ]
  },
  {
   "cell_type": "code",
   "execution_count": 254,
   "id": "0c5447ee",
   "metadata": {},
   "outputs": [
    {
     "data": {
      "text/plain": [
       "school_type\n",
       "Charter    872625.656236\n",
       "Public     911195.558251\n",
       "Name: school_budget, dtype: float64"
      ]
     },
     "execution_count": 254,
     "metadata": {},
     "output_type": "execute_result"
    }
   ],
   "source": [
    "#Display the average budget for each school type by using the groupby and mean functions\n",
    "average_budget_by_school_type = student_df.groupby('school_type')['school_budget'].mean()\n",
    "average_budget_by_school_type"
   ]
  },
  {
   "cell_type": "code",
   "execution_count": 255,
   "id": "8c0abab8",
   "metadata": {},
   "outputs": [
    {
     "name": "stdout",
     "output_type": "stream",
     "text": [
      "               school_name  student_counts\n",
      "7   Montgomery High School            2038\n",
      "6        Green High School            1961\n",
      "4        Dixon High School            1583\n",
      "13      Wagner High School            1541\n",
      "10       Silva High School            1109\n",
      "14       Woods High School            1052\n",
      "11    Sullivan High School             971\n",
      "12      Turner High School             846\n",
      "0       Bowers High School             803\n",
      "5       Fisher High School             798\n",
      "9      Richard High School             551\n",
      "2       Campos High School             541\n",
      "8     Odonnell High School             459\n",
      "1     Campbell High School             407\n",
      "3        Chang High School             171\n"
     ]
    }
   ],
   "source": [
    "#Find the total number of students at each school, and sort those numbers from largest to smallest by using the groupby, count, and sort_values functions\n",
    "student_counts = student_df.groupby(['school_name']).size().reset_index(name='student_counts')\n",
    "student_counts = student_counts.sort_values(by='student_counts', ascending=False)\n",
    "print(student_counts)"
   ]
  },
  {
   "cell_type": "code",
   "execution_count": 259,
   "id": "6858c7c8",
   "metadata": {},
   "outputs": [
    {
     "name": "stdout",
     "output_type": "stream",
     "text": [
      "                   math_score\n",
      "school_type grade            \n",
      "Charter     9            70.0\n",
      "            10           66.0\n",
      "            11           68.0\n",
      "            12           60.0\n",
      "Public      9            64.0\n",
      "            10           64.0\n",
      "            11           59.0\n",
      "            12           64.0\n"
     ]
    }
   ],
   "source": [
    "avg_math_score_by_grade_school_type = student_df.groupby(['school_type', 'grade']).agg({'math_score': 'mean'})\n",
    "avg_math_score_by_grade_school_type = avg_math_score_by_grade_school_type.round(0)\n",
    "print(avg_math_score_by_grade_school_type)"
   ]
  },
  {
   "cell_type": "code",
   "execution_count": 258,
   "id": "8be21065",
   "metadata": {},
   "outputs": [],
   "source": [
    "#Deliverable 6: Report Findings: brief summary of your findings\n",
    "#It looks like the average math score for the charter schools are higher than public scools except grade 12. Scores for grage 12 are roughly the same\n",
    "#It would be great if the reading scores are compared and analyzed for specific schools instead of school type."
   ]
  },
  {
   "cell_type": "code",
   "execution_count": null,
   "id": "b9af8b31",
   "metadata": {},
   "outputs": [],
   "source": []
  }
 ],
 "metadata": {
  "kernelspec": {
   "display_name": "PythonData",
   "language": "python",
   "name": "pythondata"
  },
  "language_info": {
   "codemirror_mode": {
    "name": "ipython",
    "version": 3
   },
   "file_extension": ".py",
   "mimetype": "text/x-python",
   "name": "python",
   "nbconvert_exporter": "python",
   "pygments_lexer": "ipython3",
   "version": "3.9.13"
  }
 },
 "nbformat": 4,
 "nbformat_minor": 5
}
